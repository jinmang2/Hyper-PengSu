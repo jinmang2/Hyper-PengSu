{
 "cells": [
  {
   "cell_type": "markdown",
   "metadata": {},
   "source": [
    "# Url로 image downloads"
   ]
  },
  {
   "cell_type": "code",
   "execution_count": 2,
   "metadata": {},
   "outputs": [],
   "source": [
    "import sys\n",
    "import requests\n",
    "from bs4 import BeautifulSoup\n",
    "import urllib.request"
   ]
  },
  {
   "cell_type": "code",
   "execution_count": 41,
   "metadata": {},
   "outputs": [],
   "source": [
    "url = 'http://aeyong2.cafe24.com/work/persona/cont/feature.html'\n",
    "html = urllib.request.urlopen(url)"
   ]
  },
  {
   "cell_type": "code",
   "execution_count": 42,
   "metadata": {},
   "outputs": [],
   "source": [
    "source = html.read()"
   ]
  },
  {
   "cell_type": "code",
   "execution_count": 43,
   "metadata": {},
   "outputs": [],
   "source": [
    "soup = BeautifulSoup(source, 'html.parser')"
   ]
  },
  {
   "cell_type": "code",
   "execution_count": 160,
   "metadata": {
    "scrolled": false
   },
   "outputs": [
    {
     "data": {
      "text/plain": [
       "['http://aeyong2.cafe24.com/work/persona/images/icon/icon_close.svg',\n",
       " 'http://aeyong2.cafe24.com/work/persona/images/emotion/Happiness/topimg04.png',\n",
       " 'http://aeyong2.cafe24.com/work/persona/images/emotion/expression/Happiness.jpg',\n",
       " 'http://aeyong2.cafe24.com/work/persona/images/sub/incont_01_02.jpg.jpg',\n",
       " 'http://aeyong2.cafe24.com/work/persona/images/sub/incont_01_01.jpg',\n",
       " 'http://aeyong2.cafe24.com/work/persona/images/sub/incont_01_03.jpg',\n",
       " 'http://aeyong2.cafe24.com/work/persona/images/sub/incont_01_04.jpg',\n",
       " 'http://aeyong2.cafe24.com/work/persona/images/sub/incont_01_05.jpg',\n",
       " 'http://aeyong2.cafe24.com/work/persona/images/sub/incont_01_06.jpg',\n",
       " 'http://aeyong2.cafe24.com/work/persona/images/sub/incont_01_07.jpg',\n",
       " 'http://aeyong2.cafe24.com/work/persona/images/sub/incont_01_08.jpg',\n",
       " 'http://aeyong2.cafe24.com/work/persona/images/sub/incont_01_09.jpg',\n",
       " 'http://aeyong2.cafe24.com/work/persona/images/sub/incont_01_10.jpg',\n",
       " 'http://aeyong2.cafe24.com/work/persona/images/sub/incont_01_11.jpg',\n",
       " 'http://aeyong2.cafe24.com/work/persona/images/sub/incont_01_12.jpg',\n",
       " 'http://aeyong2.cafe24.com/work/persona/images/sub/incont_01_13.jpg',\n",
       " 'http://aeyong2.cafe24.com/work/persona/images/sub/incont_01_14.jpg',\n",
       " 'http://aeyong2.cafe24.com/work/persona/images/sub/incont_01_15.jpg',\n",
       " 'http://aeyong2.cafe24.com/work/persona/images/sub/incont_01_16.jpg',\n",
       " 'http://aeyong2.cafe24.com/work/persona/images/sub/incont_01_17.jpg',\n",
       " 'http://aeyong2.cafe24.com/work/persona/images/sub/pro_img1.jpg',\n",
       " 'http://aeyong2.cafe24.com/work/persona/images/sub/pro_img2.jpg',\n",
       " 'http://aeyong2.cafe24.com/work/persona/images/sub/pro_img3.jpg',\n",
       " 'http://aeyong2.cafe24.com/work/persona/images/sub/pro_img4.jpg',\n",
       " 'http://aeyong2.cafe24.com/work/persona/images/com/m_close.png',\n",
       " 'http://aeyong2.cafe24.com/work/persona/images/emotion/expression/Happiness.jpg',\n",
       " 'http://aeyong2.cafe24.com/work/persona/images/emotion/expression/Happiness.jpg',\n",
       " 'http://aeyong2.cafe24.com/work/persona/images/com/talk_wr.png',\n",
       " 'http://aeyong2.cafe24.com/work/persona/images/emotion/expression/Happiness.jpg',\n",
       " 'http://aeyong2.cafe24.com/work/persona/images/com/logo.png']"
      ]
     },
     "execution_count": 160,
     "metadata": {},
     "output_type": "execute_result"
    }
   ],
   "source": [
    "abs_path = url.split('/cont')[0]\n",
    "img_urls = [abs_path + img_link['src'].split('..')[-1] \n",
    "             for img_link in soup.find_all('img')]\n",
    "img_urls.append(\n",
    "    'http://aeyong2.cafe24.com/work/persona/images/com/logo.png')\n",
    "img_urls"
   ]
  },
  {
   "cell_type": "code",
   "execution_count": 161,
   "metadata": {},
   "outputs": [
    {
     "data": {
      "text/plain": [
       "['./images/icon/icon_close.svg',\n",
       " './images/emotion/Happiness/topimg04.png',\n",
       " './images/emotion/expression/Happiness.jpg',\n",
       " './images/sub/incont_01_02.jpg.jpg',\n",
       " './images/sub/incont_01_01.jpg',\n",
       " './images/sub/incont_01_03.jpg',\n",
       " './images/sub/incont_01_04.jpg',\n",
       " './images/sub/incont_01_05.jpg',\n",
       " './images/sub/incont_01_06.jpg',\n",
       " './images/sub/incont_01_07.jpg',\n",
       " './images/sub/incont_01_08.jpg',\n",
       " './images/sub/incont_01_09.jpg',\n",
       " './images/sub/incont_01_10.jpg',\n",
       " './images/sub/incont_01_11.jpg',\n",
       " './images/sub/incont_01_12.jpg',\n",
       " './images/sub/incont_01_13.jpg',\n",
       " './images/sub/incont_01_14.jpg',\n",
       " './images/sub/incont_01_15.jpg',\n",
       " './images/sub/incont_01_16.jpg',\n",
       " './images/sub/incont_01_17.jpg',\n",
       " './images/sub/pro_img1.jpg',\n",
       " './images/sub/pro_img2.jpg',\n",
       " './images/sub/pro_img3.jpg',\n",
       " './images/sub/pro_img4.jpg',\n",
       " './images/com/m_close.png',\n",
       " './images/emotion/expression/Happiness.jpg',\n",
       " './images/emotion/expression/Happiness.jpg',\n",
       " './images/com/talk_wr.png',\n",
       " './images/emotion/expression/Happiness.jpg',\n",
       " './images/com/logo.png']"
      ]
     },
     "execution_count": 161,
     "metadata": {},
     "output_type": "execute_result"
    }
   ],
   "source": [
    "img_names = ['.' + i.split('/persona')[-1] for i in img_urls]\n",
    "img_names"
   ]
  },
  {
   "cell_type": "code",
   "execution_count": 162,
   "metadata": {},
   "outputs": [
    {
     "name": "stdout",
     "output_type": "stream",
     "text": [
      "http://aeyong2.cafe24.com/work/persona/images/icon/icon_close.svg ./images/icon/icon_close.svg\n",
      "http://aeyong2.cafe24.com/work/persona/images/emotion/Happiness/topimg04.png ./images/emotion/Happiness/topimg04.png\n",
      "http://aeyong2.cafe24.com/work/persona/images/emotion/expression/Happiness.jpg ./images/emotion/expression/Happiness.jpg\n",
      "http://aeyong2.cafe24.com/work/persona/images/sub/incont_01_02.jpg.jpg ./images/sub/incont_01_02.jpg.jpg\n",
      "http://aeyong2.cafe24.com/work/persona/images/sub/incont_01_01.jpg ./images/sub/incont_01_01.jpg\n",
      "http://aeyong2.cafe24.com/work/persona/images/sub/incont_01_03.jpg ./images/sub/incont_01_03.jpg\n",
      "http://aeyong2.cafe24.com/work/persona/images/sub/incont_01_04.jpg ./images/sub/incont_01_04.jpg\n",
      "http://aeyong2.cafe24.com/work/persona/images/sub/incont_01_05.jpg ./images/sub/incont_01_05.jpg\n",
      "http://aeyong2.cafe24.com/work/persona/images/sub/incont_01_06.jpg ./images/sub/incont_01_06.jpg\n",
      "http://aeyong2.cafe24.com/work/persona/images/sub/incont_01_07.jpg ./images/sub/incont_01_07.jpg\n",
      "http://aeyong2.cafe24.com/work/persona/images/sub/incont_01_08.jpg ./images/sub/incont_01_08.jpg\n",
      "http://aeyong2.cafe24.com/work/persona/images/sub/incont_01_09.jpg ./images/sub/incont_01_09.jpg\n",
      "http://aeyong2.cafe24.com/work/persona/images/sub/incont_01_10.jpg ./images/sub/incont_01_10.jpg\n",
      "http://aeyong2.cafe24.com/work/persona/images/sub/incont_01_11.jpg ./images/sub/incont_01_11.jpg\n",
      "http://aeyong2.cafe24.com/work/persona/images/sub/incont_01_12.jpg ./images/sub/incont_01_12.jpg\n",
      "http://aeyong2.cafe24.com/work/persona/images/sub/incont_01_13.jpg ./images/sub/incont_01_13.jpg\n",
      "http://aeyong2.cafe24.com/work/persona/images/sub/incont_01_14.jpg ./images/sub/incont_01_14.jpg\n",
      "http://aeyong2.cafe24.com/work/persona/images/sub/incont_01_15.jpg ./images/sub/incont_01_15.jpg\n",
      "http://aeyong2.cafe24.com/work/persona/images/sub/incont_01_16.jpg ./images/sub/incont_01_16.jpg\n",
      "http://aeyong2.cafe24.com/work/persona/images/sub/incont_01_17.jpg ./images/sub/incont_01_17.jpg\n",
      "http://aeyong2.cafe24.com/work/persona/images/sub/pro_img1.jpg ./images/sub/pro_img1.jpg\n",
      "http://aeyong2.cafe24.com/work/persona/images/sub/pro_img2.jpg ./images/sub/pro_img2.jpg\n",
      "http://aeyong2.cafe24.com/work/persona/images/sub/pro_img3.jpg ./images/sub/pro_img3.jpg\n",
      "http://aeyong2.cafe24.com/work/persona/images/sub/pro_img4.jpg ./images/sub/pro_img4.jpg\n",
      "http://aeyong2.cafe24.com/work/persona/images/com/m_close.png ./images/com/m_close.png\n",
      "http://aeyong2.cafe24.com/work/persona/images/emotion/expression/Happiness.jpg ./images/emotion/expression/Happiness.jpg\n",
      "http://aeyong2.cafe24.com/work/persona/images/emotion/expression/Happiness.jpg ./images/emotion/expression/Happiness.jpg\n",
      "http://aeyong2.cafe24.com/work/persona/images/com/talk_wr.png ./images/com/talk_wr.png\n",
      "http://aeyong2.cafe24.com/work/persona/images/emotion/expression/Happiness.jpg ./images/emotion/expression/Happiness.jpg\n",
      "http://aeyong2.cafe24.com/work/persona/images/com/logo.png ./images/com/logo.png\n"
     ]
    }
   ],
   "source": [
    "for (img_url, img_name) in zip(img_urls, img_names):\n",
    "    print(img_url, img_name)\n",
    "    file_path = '/'.join(img_name.split('/')[:-1])\n",
    "    try:\n",
    "        urllib.request.urlretrieve(img_url, img_name)\n",
    "    except FileNotFoundError:\n",
    "        os.makedirs(file_path)\n",
    "        urllib.request.urlretrieve(img_url, img_name)"
   ]
  },
  {
   "cell_type": "code",
   "execution_count": 84,
   "metadata": {},
   "outputs": [],
   "source": [
    "import PIL.Image"
   ]
  },
  {
   "cell_type": "code",
   "execution_count": 164,
   "metadata": {},
   "outputs": [
    {
     "data": {
      "image/png": "[encoded data removed]",
      "text/plain": [
       "<PIL.PngImagePlugin.PngImageFile image mode=RGB size=130x48 at 0x13FBE82C898>"
      ]
     },
     "execution_count": 164,
     "metadata": {},
     "output_type": "execute_result"
    }
   ],
   "source": [
    "PIL.Image.open('./images/com/logo.png')"
   ]
  },
  {
   "cell_type": "code",
   "execution_count": null,
   "metadata": {},
   "outputs": [],
   "source": []
  }
 ],
 "metadata": {
  "kernelspec": {
   "display_name": "basic",
   "language": "python",
   "name": "basic"
  },
  "language_info": {
   "codemirror_mode": {
    "name": "ipython",
    "version": 3
   },
   "file_extension": ".py",
   "mimetype": "text/x-python",
   "name": "python",
   "nbconvert_exporter": "python",
   "pygments_lexer": "ipython3",
   "version": "3.6.9"
  }
 },
 "nbformat": 4,
 "nbformat_minor": 2
}
